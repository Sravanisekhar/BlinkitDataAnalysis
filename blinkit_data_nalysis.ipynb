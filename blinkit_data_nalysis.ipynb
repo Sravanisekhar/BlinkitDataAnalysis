{
 "cells": [
  {
   "cell_type": "markdown",
   "id": "7eaeb4c0-e035-4ce2-9233-cbf5eab7807b",
   "metadata": {},
   "source": [
    "## Blinkit Data Analysis"
   ]
  },
  {
   "cell_type": "markdown",
   "id": "d7dcdc62-8788-4a9c-bb2e-3b6e7663d9b5",
   "metadata": {},
   "source": [
    "### Importing Libraries"
   ]
  },
  {
   "cell_type": "code",
   "execution_count": 1,
   "id": "8ba5d464-98ed-4944-9fb2-1dfe8985f523",
   "metadata": {},
   "outputs": [],
   "source": [
    "import numpy as np\n",
    "import pandas as pd\n",
    "import matplotlib.pyplot as plt\n",
    "import seaborn as sns\n",
    "%matplotlib inline\n",
    "import warnings\n",
    "warnings.filterwarnings('ignore')"
   ]
  },
  {
   "cell_type": "markdown",
   "id": "0f5093f7-c4c4-4eeb-a505-2e1d52053dbe",
   "metadata": {},
   "source": [
    "### Importing the data"
   ]
  },
  {
   "cell_type": "code",
   "execution_count": 2,
   "id": "4ceacd8f-c3fa-41ea-8ab6-e5740d560658",
   "metadata": {},
   "outputs": [],
   "source": [
    "df=pd.read_csv('blinkit_data.csv')"
   ]
  },
  {
   "cell_type": "markdown",
   "id": "3c545827-5d66-456a-b44d-b5c9d8da6040",
   "metadata": {},
   "source": [
    "### Exploratory data Analysis-EDA"
   ]
  },
  {
   "cell_type": "code",
   "execution_count": 3,
   "id": "3a2f4375-da62-4f59-a9ac-4826ce7c0efb",
   "metadata": {},
   "outputs": [
    {
     "data": {
      "text/html": [
       "<div>\n",
       "<style scoped>\n",
       "    .dataframe tbody tr th:only-of-type {\n",
       "        vertical-align: middle;\n",
       "    }\n",
       "\n",
       "    .dataframe tbody tr th {\n",
       "        vertical-align: top;\n",
       "    }\n",
       "\n",
       "    .dataframe thead th {\n",
       "        text-align: right;\n",
       "    }\n",
       "</style>\n",
       "<table border=\"1\" class=\"dataframe\">\n",
       "  <thead>\n",
       "    <tr style=\"text-align: right;\">\n",
       "      <th></th>\n",
       "      <th>Item Fat Content</th>\n",
       "      <th>Item Identifier</th>\n",
       "      <th>Item Type</th>\n",
       "      <th>Outlet Establishment Year</th>\n",
       "      <th>Outlet Identifier</th>\n",
       "      <th>Outlet Location Type</th>\n",
       "      <th>Outlet Size</th>\n",
       "      <th>Outlet Type</th>\n",
       "      <th>Item Visibility</th>\n",
       "      <th>Item Weight</th>\n",
       "      <th>Sales</th>\n",
       "      <th>Rating</th>\n",
       "    </tr>\n",
       "  </thead>\n",
       "  <tbody>\n",
       "    <tr>\n",
       "      <th>0</th>\n",
       "      <td>Regular</td>\n",
       "      <td>FDX32</td>\n",
       "      <td>Fruits and Vegetables</td>\n",
       "      <td>2012</td>\n",
       "      <td>OUT049</td>\n",
       "      <td>Tier 1</td>\n",
       "      <td>Medium</td>\n",
       "      <td>Supermarket Type1</td>\n",
       "      <td>0.100014</td>\n",
       "      <td>15.10</td>\n",
       "      <td>145.4786</td>\n",
       "      <td>5.0</td>\n",
       "    </tr>\n",
       "    <tr>\n",
       "      <th>1</th>\n",
       "      <td>Low Fat</td>\n",
       "      <td>NCB42</td>\n",
       "      <td>Health and Hygiene</td>\n",
       "      <td>2022</td>\n",
       "      <td>OUT018</td>\n",
       "      <td>Tier 3</td>\n",
       "      <td>Medium</td>\n",
       "      <td>Supermarket Type2</td>\n",
       "      <td>0.008596</td>\n",
       "      <td>11.80</td>\n",
       "      <td>115.3492</td>\n",
       "      <td>5.0</td>\n",
       "    </tr>\n",
       "    <tr>\n",
       "      <th>2</th>\n",
       "      <td>Regular</td>\n",
       "      <td>FDR28</td>\n",
       "      <td>Frozen Foods</td>\n",
       "      <td>2010</td>\n",
       "      <td>OUT046</td>\n",
       "      <td>Tier 1</td>\n",
       "      <td>Small</td>\n",
       "      <td>Supermarket Type1</td>\n",
       "      <td>0.025896</td>\n",
       "      <td>13.85</td>\n",
       "      <td>165.0210</td>\n",
       "      <td>5.0</td>\n",
       "    </tr>\n",
       "    <tr>\n",
       "      <th>3</th>\n",
       "      <td>Regular</td>\n",
       "      <td>FDL50</td>\n",
       "      <td>Canned</td>\n",
       "      <td>2000</td>\n",
       "      <td>OUT013</td>\n",
       "      <td>Tier 3</td>\n",
       "      <td>High</td>\n",
       "      <td>Supermarket Type1</td>\n",
       "      <td>0.042278</td>\n",
       "      <td>12.15</td>\n",
       "      <td>126.5046</td>\n",
       "      <td>5.0</td>\n",
       "    </tr>\n",
       "    <tr>\n",
       "      <th>4</th>\n",
       "      <td>Low Fat</td>\n",
       "      <td>DRI25</td>\n",
       "      <td>Soft Drinks</td>\n",
       "      <td>2015</td>\n",
       "      <td>OUT045</td>\n",
       "      <td>Tier 2</td>\n",
       "      <td>Small</td>\n",
       "      <td>Supermarket Type1</td>\n",
       "      <td>0.033970</td>\n",
       "      <td>19.60</td>\n",
       "      <td>55.1614</td>\n",
       "      <td>5.0</td>\n",
       "    </tr>\n",
       "    <tr>\n",
       "      <th>...</th>\n",
       "      <td>...</td>\n",
       "      <td>...</td>\n",
       "      <td>...</td>\n",
       "      <td>...</td>\n",
       "      <td>...</td>\n",
       "      <td>...</td>\n",
       "      <td>...</td>\n",
       "      <td>...</td>\n",
       "      <td>...</td>\n",
       "      <td>...</td>\n",
       "      <td>...</td>\n",
       "      <td>...</td>\n",
       "    </tr>\n",
       "    <tr>\n",
       "      <th>8518</th>\n",
       "      <td>low fat</td>\n",
       "      <td>NCT53</td>\n",
       "      <td>Health and Hygiene</td>\n",
       "      <td>1998</td>\n",
       "      <td>OUT027</td>\n",
       "      <td>Tier 3</td>\n",
       "      <td>Medium</td>\n",
       "      <td>Supermarket Type3</td>\n",
       "      <td>0.000000</td>\n",
       "      <td>NaN</td>\n",
       "      <td>164.5526</td>\n",
       "      <td>4.0</td>\n",
       "    </tr>\n",
       "    <tr>\n",
       "      <th>8519</th>\n",
       "      <td>low fat</td>\n",
       "      <td>FDN09</td>\n",
       "      <td>Snack Foods</td>\n",
       "      <td>1998</td>\n",
       "      <td>OUT027</td>\n",
       "      <td>Tier 3</td>\n",
       "      <td>Medium</td>\n",
       "      <td>Supermarket Type3</td>\n",
       "      <td>0.034706</td>\n",
       "      <td>NaN</td>\n",
       "      <td>241.6828</td>\n",
       "      <td>4.0</td>\n",
       "    </tr>\n",
       "    <tr>\n",
       "      <th>8520</th>\n",
       "      <td>low fat</td>\n",
       "      <td>DRE13</td>\n",
       "      <td>Soft Drinks</td>\n",
       "      <td>1998</td>\n",
       "      <td>OUT027</td>\n",
       "      <td>Tier 3</td>\n",
       "      <td>Medium</td>\n",
       "      <td>Supermarket Type3</td>\n",
       "      <td>0.027571</td>\n",
       "      <td>NaN</td>\n",
       "      <td>86.6198</td>\n",
       "      <td>4.0</td>\n",
       "    </tr>\n",
       "    <tr>\n",
       "      <th>8521</th>\n",
       "      <td>reg</td>\n",
       "      <td>FDT50</td>\n",
       "      <td>Dairy</td>\n",
       "      <td>1998</td>\n",
       "      <td>OUT027</td>\n",
       "      <td>Tier 3</td>\n",
       "      <td>Medium</td>\n",
       "      <td>Supermarket Type3</td>\n",
       "      <td>0.107715</td>\n",
       "      <td>NaN</td>\n",
       "      <td>97.8752</td>\n",
       "      <td>4.0</td>\n",
       "    </tr>\n",
       "    <tr>\n",
       "      <th>8522</th>\n",
       "      <td>reg</td>\n",
       "      <td>FDM58</td>\n",
       "      <td>Snack Foods</td>\n",
       "      <td>1998</td>\n",
       "      <td>OUT027</td>\n",
       "      <td>Tier 3</td>\n",
       "      <td>Medium</td>\n",
       "      <td>Supermarket Type3</td>\n",
       "      <td>0.000000</td>\n",
       "      <td>NaN</td>\n",
       "      <td>112.2544</td>\n",
       "      <td>4.0</td>\n",
       "    </tr>\n",
       "  </tbody>\n",
       "</table>\n",
       "<p>8523 rows × 12 columns</p>\n",
       "</div>"
      ],
      "text/plain": [
       "     Item Fat Content Item Identifier              Item Type  \\\n",
       "0             Regular           FDX32  Fruits and Vegetables   \n",
       "1             Low Fat           NCB42     Health and Hygiene   \n",
       "2             Regular           FDR28           Frozen Foods   \n",
       "3             Regular           FDL50                 Canned   \n",
       "4             Low Fat           DRI25            Soft Drinks   \n",
       "...               ...             ...                    ...   \n",
       "8518          low fat           NCT53     Health and Hygiene   \n",
       "8519          low fat           FDN09            Snack Foods   \n",
       "8520          low fat           DRE13            Soft Drinks   \n",
       "8521              reg           FDT50                  Dairy   \n",
       "8522              reg           FDM58            Snack Foods   \n",
       "\n",
       "      Outlet Establishment Year Outlet Identifier Outlet Location Type  \\\n",
       "0                          2012            OUT049               Tier 1   \n",
       "1                          2022            OUT018               Tier 3   \n",
       "2                          2010            OUT046               Tier 1   \n",
       "3                          2000            OUT013               Tier 3   \n",
       "4                          2015            OUT045               Tier 2   \n",
       "...                         ...               ...                  ...   \n",
       "8518                       1998            OUT027               Tier 3   \n",
       "8519                       1998            OUT027               Tier 3   \n",
       "8520                       1998            OUT027               Tier 3   \n",
       "8521                       1998            OUT027               Tier 3   \n",
       "8522                       1998            OUT027               Tier 3   \n",
       "\n",
       "     Outlet Size        Outlet Type  Item Visibility  Item Weight     Sales  \\\n",
       "0         Medium  Supermarket Type1         0.100014        15.10  145.4786   \n",
       "1         Medium  Supermarket Type2         0.008596        11.80  115.3492   \n",
       "2          Small  Supermarket Type1         0.025896        13.85  165.0210   \n",
       "3           High  Supermarket Type1         0.042278        12.15  126.5046   \n",
       "4          Small  Supermarket Type1         0.033970        19.60   55.1614   \n",
       "...          ...                ...              ...          ...       ...   \n",
       "8518      Medium  Supermarket Type3         0.000000          NaN  164.5526   \n",
       "8519      Medium  Supermarket Type3         0.034706          NaN  241.6828   \n",
       "8520      Medium  Supermarket Type3         0.027571          NaN   86.6198   \n",
       "8521      Medium  Supermarket Type3         0.107715          NaN   97.8752   \n",
       "8522      Medium  Supermarket Type3         0.000000          NaN  112.2544   \n",
       "\n",
       "      Rating  \n",
       "0        5.0  \n",
       "1        5.0  \n",
       "2        5.0  \n",
       "3        5.0  \n",
       "4        5.0  \n",
       "...      ...  \n",
       "8518     4.0  \n",
       "8519     4.0  \n",
       "8520     4.0  \n",
       "8521     4.0  \n",
       "8522     4.0  \n",
       "\n",
       "[8523 rows x 12 columns]"
      ]
     },
     "execution_count": 3,
     "metadata": {},
     "output_type": "execute_result"
    }
   ],
   "source": [
    "df"
   ]
  },
  {
   "cell_type": "markdown",
   "id": "fbc24255-ebb2-4358-b705-1911b1416df0",
   "metadata": {},
   "source": [
    "#### Fining the missing values and replacing the null values"
   ]
  },
  {
   "cell_type": "code",
   "execution_count": 7,
   "id": "1e6e1df4-25ce-488e-a951-c54c9236ff8e",
   "metadata": {},
   "outputs": [
    {
     "name": "stdout",
     "output_type": "stream",
     "text": [
      "<class 'pandas.core.frame.DataFrame'>\n",
      "RangeIndex: 8523 entries, 0 to 8522\n",
      "Data columns (total 12 columns):\n",
      " #   Column                     Non-Null Count  Dtype  \n",
      "---  ------                     --------------  -----  \n",
      " 0   Item Fat Content           8523 non-null   object \n",
      " 1   Item Identifier            8523 non-null   object \n",
      " 2   Item Type                  8523 non-null   object \n",
      " 3   Outlet Establishment Year  8523 non-null   int64  \n",
      " 4   Outlet Identifier          8523 non-null   object \n",
      " 5   Outlet Location Type       8523 non-null   object \n",
      " 6   Outlet Size                8523 non-null   object \n",
      " 7   Outlet Type                8523 non-null   object \n",
      " 8   Item Visibility            8523 non-null   float64\n",
      " 9   Item Weight                7060 non-null   float64\n",
      " 10  Sales                      8523 non-null   float64\n",
      " 11  Rating                     8523 non-null   float64\n",
      "dtypes: float64(4), int64(1), object(7)\n",
      "memory usage: 799.2+ KB\n"
     ]
    }
   ],
   "source": [
    "df.info()"
   ]
  },
  {
   "cell_type": "code",
   "execution_count": 4,
   "id": "5280bf7c-9b8d-4557-86f7-4b6df3b30783",
   "metadata": {},
   "outputs": [
    {
     "data": {
      "text/plain": [
       "1463"
      ]
     },
     "execution_count": 4,
     "metadata": {},
     "output_type": "execute_result"
    }
   ],
   "source": [
    "df['Item Weight'].isnull().sum()"
   ]
  },
  {
   "cell_type": "code",
   "execution_count": 5,
   "id": "43929a8d-ff08-4688-97a2-c4c07b305d6b",
   "metadata": {},
   "outputs": [],
   "source": [
    "#Inour analysis we not focussed on weights so instead of deleting the rows with nan values we are replacing nan with 0\n",
    "df['Item Weight'].fillna(0,inplace=True)"
   ]
  },
  {
   "cell_type": "code",
   "execution_count": 6,
   "id": "09dbfa2b-f45c-4f8a-aaa7-c544f2379572",
   "metadata": {},
   "outputs": [
    {
     "data": {
      "text/plain": [
       "0"
      ]
     },
     "execution_count": 6,
     "metadata": {},
     "output_type": "execute_result"
    }
   ],
   "source": [
    "df['Item Weight'].isnull().sum()"
   ]
  },
  {
   "cell_type": "markdown",
   "id": "fc4ae872-dc4e-4a51-a2f4-813b6120ec3f",
   "metadata": {},
   "source": [
    "#### Checking for unique values in each of the object column"
   ]
  },
  {
   "cell_type": "code",
   "execution_count": 7,
   "id": "b32def36-0b18-43a4-96e3-db3d7ac6626e",
   "metadata": {},
   "outputs": [
    {
     "data": {
      "text/plain": [
       "array(['Regular', 'Low Fat', 'low fat', 'LF', 'reg'], dtype=object)"
      ]
     },
     "execution_count": 7,
     "metadata": {},
     "output_type": "execute_result"
    }
   ],
   "source": [
    "df['Item Fat Content'].unique()"
   ]
  },
  {
   "cell_type": "code",
   "execution_count": 8,
   "id": "f8c1cf26-785b-45c3-8b48-e3aae5c55b16",
   "metadata": {},
   "outputs": [],
   "source": [
    "# Since the \"Item Fat Content\" has dupliate categories as Low fat ,Low Fat and LF have the same meaning .Similar with the Regular and reg.\n",
    "df['Item Fat Content'].replace({'reg':'Regular',\n",
    "                                'low fat':'Low Fat',\n",
    "                                'LF':'Low Fat'\n",
    "                               },inplace=True)"
   ]
  },
  {
   "cell_type": "code",
   "execution_count": 9,
   "id": "11d28b51-12d2-4f81-b483-c25282d11353",
   "metadata": {},
   "outputs": [
    {
     "data": {
      "text/plain": [
       "array(['Regular', 'Low Fat'], dtype=object)"
      ]
     },
     "execution_count": 9,
     "metadata": {},
     "output_type": "execute_result"
    }
   ],
   "source": [
    "df['Item Fat Content'].unique()"
   ]
  },
  {
   "cell_type": "code",
   "execution_count": 10,
   "id": "132d2741-6e84-4c5d-a0e3-dfa675a78706",
   "metadata": {},
   "outputs": [
    {
     "data": {
      "text/plain": [
       "array(['Fruits and Vegetables', 'Health and Hygiene', 'Frozen Foods',\n",
       "       'Canned', 'Soft Drinks', 'Household', 'Snack Foods', 'Meat',\n",
       "       'Breads', 'Hard Drinks', 'Others', 'Dairy', 'Breakfast',\n",
       "       'Baking Goods', 'Seafood', 'Starchy Foods'], dtype=object)"
      ]
     },
     "execution_count": 10,
     "metadata": {},
     "output_type": "execute_result"
    }
   ],
   "source": [
    "df['Item Type'].unique()"
   ]
  },
  {
   "cell_type": "code",
   "execution_count": 11,
   "id": "762e716d-7f9f-4145-9c67-62c5ea558d86",
   "metadata": {},
   "outputs": [
    {
     "data": {
      "text/plain": [
       "array(['Tier 1', 'Tier 3', 'Tier 2'], dtype=object)"
      ]
     },
     "execution_count": 11,
     "metadata": {},
     "output_type": "execute_result"
    }
   ],
   "source": [
    "df['Outlet Location Type'].unique()"
   ]
  },
  {
   "cell_type": "code",
   "execution_count": 12,
   "id": "c2e07761-3984-49bf-9835-969a03a2918e",
   "metadata": {},
   "outputs": [
    {
     "data": {
      "text/plain": [
       "array(['Medium', 'Small', 'High'], dtype=object)"
      ]
     },
     "execution_count": 12,
     "metadata": {},
     "output_type": "execute_result"
    }
   ],
   "source": [
    "df['Outlet Size'].unique()"
   ]
  },
  {
   "cell_type": "code",
   "execution_count": 13,
   "id": "172bd7da-3d9e-41cc-b711-cb8c73afb921",
   "metadata": {},
   "outputs": [
    {
     "data": {
      "text/plain": [
       "array(['Supermarket Type1', 'Supermarket Type2', 'Grocery Store',\n",
       "       'Supermarket Type3'], dtype=object)"
      ]
     },
     "execution_count": 13,
     "metadata": {},
     "output_type": "execute_result"
    }
   ],
   "source": [
    "df['Outlet Type'].unique()"
   ]
  },
  {
   "cell_type": "code",
   "execution_count": 14,
   "id": "e7f4be66-0365-4dde-9292-8c1bef7bc6ba",
   "metadata": {},
   "outputs": [],
   "source": [
    "### Since all these objects have very limited categories so we are changing the dtype to categoriucal dtype\n",
    "# df['Item Fat Content']=df['Item Fat Content'].astype('category')\n",
    "# df['Item Type']=df['Item Type'].astype('category')\n",
    "# df['Outlet Location Type']=df['Outlet Location Type'].astype('category')\n",
    "# df['Outlet Size']=df['Outlet Size'].astype('category')\n",
    "# df['Outlet Type']=df['Outlet Type'].astype('category')"
   ]
  },
  {
   "cell_type": "code",
   "execution_count": 15,
   "id": "efb4519e-fe85-4067-b544-4a84d070b413",
   "metadata": {},
   "outputs": [],
   "source": [
    "cat_columns=['Item Fat Content','Item Type','Outlet Location Type','Outlet Size','Outlet Type']"
   ]
  },
  {
   "cell_type": "code",
   "execution_count": 16,
   "id": "7ba7328e-bc8c-4c33-9bb5-e64f97727b07",
   "metadata": {},
   "outputs": [],
   "source": [
    "def change_to_categorical_data(df):\n",
    "    for col in cat_columns:\n",
    "        df[col]=df[col].astype('category')"
   ]
  },
  {
   "cell_type": "code",
   "execution_count": 17,
   "id": "ba8f6f21-ee70-44d0-8028-5bfd02831926",
   "metadata": {},
   "outputs": [],
   "source": [
    "change_to_categorical_data(df)"
   ]
  },
  {
   "cell_type": "code",
   "execution_count": 18,
   "id": "72735eb3-c1c1-4d35-8580-aafd8a46312c",
   "metadata": {},
   "outputs": [
    {
     "name": "stdout",
     "output_type": "stream",
     "text": [
      "<class 'pandas.core.frame.DataFrame'>\n",
      "RangeIndex: 8523 entries, 0 to 8522\n",
      "Data columns (total 12 columns):\n",
      " #   Column                     Non-Null Count  Dtype   \n",
      "---  ------                     --------------  -----   \n",
      " 0   Item Fat Content           8523 non-null   category\n",
      " 1   Item Identifier            8523 non-null   object  \n",
      " 2   Item Type                  8523 non-null   category\n",
      " 3   Outlet Establishment Year  8523 non-null   int64   \n",
      " 4   Outlet Identifier          8523 non-null   object  \n",
      " 5   Outlet Location Type       8523 non-null   category\n",
      " 6   Outlet Size                8523 non-null   category\n",
      " 7   Outlet Type                8523 non-null   category\n",
      " 8   Item Visibility            8523 non-null   float64 \n",
      " 9   Item Weight                8523 non-null   float64 \n",
      " 10  Sales                      8523 non-null   float64 \n",
      " 11  Rating                     8523 non-null   float64 \n",
      "dtypes: category(5), float64(4), int64(1), object(2)\n",
      "memory usage: 509.1+ KB\n"
     ]
    }
   ],
   "source": [
    "df.info()"
   ]
  },
  {
   "cell_type": "markdown",
   "id": "970555c2-38b4-49f3-b5ba-45d71b06b172",
   "metadata": {},
   "source": [
    "#### Checking for duplicates and removal of duplicates"
   ]
  },
  {
   "cell_type": "code",
   "execution_count": 19,
   "id": "20c1951c-b15e-4262-ab7f-0fc9b9f259a7",
   "metadata": {},
   "outputs": [
    {
     "data": {
      "text/plain": [
       "0"
      ]
     },
     "execution_count": 19,
     "metadata": {},
     "output_type": "execute_result"
    }
   ],
   "source": [
    "df.duplicated().sum()"
   ]
  },
  {
   "cell_type": "markdown",
   "id": "bbedecfa-6125-4274-ad74-a965dc96baf6",
   "metadata": {},
   "source": [
    "#### Outliers detection and removal"
   ]
  },
  {
   "cell_type": "code",
   "execution_count": 40,
   "id": "217e29a0-0e06-41d9-9fd7-2cbc1b7e5734",
   "metadata": {
    "scrolled": true
   },
   "outputs": [
    {
     "data": {
      "image/png": "[encoded data removed]",
      "text/plain": [
       "<Figure size 300x500 with 1 Axes>"
      ]
     },
     "metadata": {},
     "output_type": "display_data"
    },
    {
     "data": {
      "image/png": "[encoded data removed]",
      "text/plain": [
       "<Figure size 300x500 with 1 Axes>"
      ]
     },
     "metadata": {},
     "output_type": "display_data"
    },
    {
     "data": {
      "image/png": "[encoded data removed]",
      "text/plain": [
       "<Figure size 300x500 with 1 Axes>"
      ]
     },
     "metadata": {},
     "output_type": "display_data"
    },
    {
     "data": {
      "image/png": "[encoded data removed]",
      "text/plain": [
       "<Figure size 300x500 with 1 Axes>"
      ]
     },
     "metadata": {},
     "output_type": "display_data"
    },
    {
     "data": {
      "image/png": "[encoded data removed]",
      "text/plain": [
       "<Figure size 300x500 with 1 Axes>"
      ]
     },
     "metadata": {},
     "output_type": "display_data"
    }
   ],
   "source": [
    "for col in df.columns:\n",
    "    if (df[col].dtype != 'object') & (df[col].dtype != 'category'):\n",
    "        plt.figure(figsize=(3,5))\n",
    "        sns.boxplot(data=df,x=col)\n",
    "        plt.show()"
   ]
  },
  {
   "cell_type": "code",
   "execution_count": 20,
   "id": "2caaf6f5-8ee6-43f9-8716-289cbb59dd13",
   "metadata": {},
   "outputs": [],
   "source": [
    "# # In this analysis we are more focussed on the Sales and we are ignoring the ouliers in the columns 'Ratings' And 'Item Visibility' .\n",
    "# #If we need to remove outliers we can follow up the below commented code\n",
    "# outlier_cols=['Item Visibility','Rating']\n",
    "# def remove_outliers(df,outlier_cols):\n",
    "#     Q1=np.percentile(df[col],25)\n",
    "#     Q2=np.percentile(df[col],75)\n",
    "#     IQR=Q3-Q1\n",
    "#     lb=Q1-(1.5 * IQR)\n",
    "#     ub=Q3+(1.5*IQR)\n",
    "#     df=df[(df[col]>=lb) & (df[col]<=ub) ]\n",
    "#     return df"
   ]
  },
  {
   "cell_type": "markdown",
   "id": "670ec335-116d-4f9b-b7c9-7b72b49472bd",
   "metadata": {},
   "source": [
    "#### Encoding of the categorical data"
   ]
  },
  {
   "cell_type": "code",
   "execution_count": 21,
   "id": "1990af0e-32ab-4749-9a78-1079cf8dbff2",
   "metadata": {},
   "outputs": [],
   "source": [
    "from sklearn.preprocessing import LabelEncoder"
   ]
  },
  {
   "cell_type": "code",
   "execution_count": 22,
   "id": "b00d07f6-d7e5-4982-9ba1-95d1faec1442",
   "metadata": {},
   "outputs": [],
   "source": [
    "## Since we are not going to apply any machine learning algorithm that why we are not Encoding data.\n",
    "# You can encode the data using the below code"
   ]
  },
  {
   "cell_type": "code",
   "execution_count": 23,
   "id": "3a1f1def-e84d-4837-82c8-c963c264cfd9",
   "metadata": {},
   "outputs": [],
   "source": [
    "# categorical_columns=['Item Fat Content','Item Type','Outlet Location Type','Outlet Size','Outlet Type']\n",
    "# mapings_dict={}\n",
    "# for col in categorical_columns:\n",
    "#     le=LabelEncoder()\n",
    "#     df[col]=le.fit_transform(df[col])\n",
    "#     mappings_dict[col]=dict(zip(le.classes_,le.tranform(le_classes)))\n",
    "\n",
    "# #Printing the mappings\n",
    "# for key,value in mappings_dict.items():\n",
    "#     print(key,value)\n"
   ]
  },
  {
   "cell_type": "markdown",
   "id": "6f82c656-2acb-4f6d-832c-ff275643430f",
   "metadata": {},
   "source": [
    "### Buisiness Requirement\n",
    "### KPI'S Requirement"
   ]
  },
  {
   "cell_type": "markdown",
   "id": "c109ac4a-f3f4-469e-878c-7e9879aeb5d4",
   "metadata": {},
   "source": [
    "#### Total Sales"
   ]
  },
  {
   "cell_type": "code",
   "execution_count": 47,
   "id": "a339aec2-fc79-4178-818a-6be4bd7bd86a",
   "metadata": {},
   "outputs": [
    {
     "data": {
      "text/plain": [
       "Index(['Item Fat Content', 'Item Identifier', 'Item Type',\n",
       "       'Outlet Establishment Year', 'Outlet Identifier',\n",
       "       'Outlet Location Type', 'Outlet Size', 'Outlet Type', 'Item Visibility',\n",
       "       'Item Weight', 'Sales', 'Rating'],\n",
       "      dtype='object')"
      ]
     },
     "execution_count": 47,
     "metadata": {},
     "output_type": "execute_result"
    }
   ],
   "source": [
    "df.columns"
   ]
  },
  {
   "cell_type": "code",
   "execution_count": 48,
   "id": "a41d3dbe-ecde-4a98-8cd9-ff3f2289e72a",
   "metadata": {},
   "outputs": [
    {
     "name": "stdout",
     "output_type": "stream",
     "text": [
      "Total Sales : 1201681.4808\n"
     ]
    }
   ],
   "source": [
    "total_sales=df['Sales'].sum()\n",
    "print(f\"Total Sales : {total_sales}\")"
   ]
  },
  {
   "cell_type": "markdown",
   "id": "a35e9acd-d6f7-4b86-ac93-5d3c1fbbbe59",
   "metadata": {},
   "source": [
    "#### Average Sales"
   ]
  },
  {
   "cell_type": "code",
   "execution_count": 50,
   "id": "0c38f504-1cca-4053-b128-b8208dbb7a3b",
   "metadata": {},
   "outputs": [
    {
     "name": "stdout",
     "output_type": "stream",
     "text": [
      "Average Sales : 140.9927819781767\n"
     ]
    }
   ],
   "source": [
    "avg_sales=df['Sales'].mean()\n",
    "print(f\"Average Sales : {avg_sales}\")"
   ]
  },
  {
   "attachments": {},
   "cell_type": "markdown",
   "id": "fcbbb4f1-1ea3-462b-9c5f-92a4e81f2f3c",
   "metadata": {},
   "source": [
    "#### Number of Items : The total count of different items sold"
   ]
  },
  {
   "cell_type": "code",
   "execution_count": 51,
   "id": "84dade76-dd78-43cb-8829-9e83c020f702",
   "metadata": {},
   "outputs": [
    {
     "name": "stdout",
     "output_type": "stream",
     "text": [
      "Average Sales : 8523\n"
     ]
    }
   ],
   "source": [
    "no_of_items_sold=df['Sales'].count()\n",
    "print(f\"Average Sales : {no_of_items_sold}\")"
   ]
  },
  {
   "cell_type": "markdown",
   "id": "b7bd74ca-4cb1-4ce5-a69f-ce34047f1f06",
   "metadata": {},
   "source": [
    "#### Average Rating"
   ]
  },
  {
   "cell_type": "code",
   "execution_count": 71,
   "id": "5c6573bd-55a1-4897-9e1e-faa8be793204",
   "metadata": {},
   "outputs": [
    {
     "name": "stdout",
     "output_type": "stream",
     "text": [
      "Average Rating : 4.0\n"
     ]
    }
   ],
   "source": [
    "avg_rating=df['Rating'].mean()\n",
    "print(f\"Average Rating : {avg_rating:.1f}\")"
   ]
  },
  {
   "cell_type": "markdown",
   "id": "9937d205-d0f9-4330-8c5e-3efc9181d5ff",
   "metadata": {},
   "source": [
    "### Charts Requirements"
   ]
  },
  {
   "attachments": {},
   "cell_type": "markdown",
   "id": "93ff750a-cd59-4d35-b026-5ccff384270a",
   "metadata": {},
   "source": [
    "#### Total Sales by Fat Content:\n",
    "\tObjective: Analyze the impact of fat content on total sales.\n",
    "\tAdditional KPI Metrics: Assess how other KPIs (Average Sales, Number of Items, Average Rating) vary with fat content.\n",
    "\tChart Type: Donut Chart."
   ]
  },
  {
   "cell_type": "code",
   "execution_count": 68,
   "id": "2285f221-518e-4f78-a9b7-5144f113f9fd",
   "metadata": {},
   "outputs": [
    {
     "data": {
      "image/png": "[encoded data removed]",
      "text/plain": [
       "<Figure size 500x500 with 1 Axes>"
      ]
     },
     "metadata": {},
     "output_type": "display_data"
    }
   ],
   "source": [
    "plt.figure(figsize=(5,5))\n",
    "sns.countplot(x=df['Item Fat Content'])\n",
    "ax = plt.gca()\n",
    "for bar in ax.patches:\n",
    "    height = bar.get_height()\n",
    "    x_pos = bar.get_x() + bar.get_width() / 2\n",
    "    plt.text(x_pos, height - 1000, str(int(height)), ha='center')\n",
    "plt.show()\n"
   ]
  },
  {
   "cell_type": "code",
   "execution_count": 81,
   "id": "ec3333e4-186c-4369-ab0d-f4f4d812a882",
   "metadata": {},
   "outputs": [
    {
     "data": {
      "text/plain": [
       "Item Fat Content\n",
       "Low Fat    776319.6784\n",
       "Regular    425361.8024\n",
       "Name: Sales, dtype: float64"
      ]
     },
     "execution_count": 81,
     "metadata": {},
     "output_type": "execute_result"
    }
   ],
   "source": [
    "grouped_data=df.groupby('Item Fat Content')['Sales'].sum()\n",
    "grouped_data"
   ]
  },
  {
   "cell_type": "code",
   "execution_count": 86,
   "id": "ad833b5a-5cad-4cd9-aa95-5e8cdf201f75",
   "metadata": {},
   "outputs": [
    {
     "data": {
      "text/plain": [
       "Text(0.5, 1.0, 'Sales by Fat Content')"
      ]
     },
     "execution_count": 86,
     "metadata": {},
     "output_type": "execute_result"
    },
    {
     "data": {
      "image/png": "[encoded data removed]",
      "text/plain": [
       "<Figure size 640x480 with 1 Axes>"
      ]
     },
     "metadata": {},
     "output_type": "display_data"
    }
   ],
   "source": [
    "plt.pie(grouped_data,\n",
    "        labels=grouped_data.index,\n",
    "       autopct='%.1f%%',\n",
    "       startangle=90)\n",
    "plt.title(\"Sales by Fat Content\", color='gray')"
   ]
  },
  {
   "cell_type": "raw",
   "id": "12573fc8-fd53-40be-a06e-5ab0d39bc958",
   "metadata": {},
   "source": [
    "Analysis:\n",
    "Products labeled as Low Fat have a much higher total sales compared to Regular fat items.\n",
    "Total sales of Low Fat items (~776k) are almost 1.8 times higher than Regular fat items (~425k).\n",
    "\n",
    "Conclusion:\n",
    "Consumers appear to prefer low-fat products, which contributes significantly more to overall sales. This suggests that fat content impacts purchasing behavior, with healthier or low-fat options driving higher revenue."
   ]
  },
  {
   "attachments": {},
   "cell_type": "markdown",
   "id": "aeceb0eb-8775-4510-83fe-c6be9c75bd38",
   "metadata": {},
   "source": [
    "#### Total Sales by Item Type:\n",
    "\tObjective: Identify the performance of different item types in terms of total sales.\n",
    "\tAdditional KPI Metrics: Assess how other KPIs (Average Sales, Number of Items, Average Rating) vary with fat content.\n",
    "\tChart Type: Bar Chart"
   ]
  },
  {
   "cell_type": "code",
   "execution_count": 101,
   "id": "37471ce1-8eba-451a-b81d-0f78e69e1202",
   "metadata": {},
   "outputs": [
    {
     "data": {
      "image/png": "[encoded data removed]",
      "text/plain": [
       "<Figure size 1000x500 with 1 Axes>"
      ]
     },
     "metadata": {},
     "output_type": "display_data"
    }
   ],
   "source": [
    "plt.figure(figsize=(10,5))\n",
    "sns.countplot(x=df['Item Type'])\n",
    "plt.xticks(rotation=90)\n",
    "plt.yticks([])\n",
    "ax = plt.gca()\n",
    "ax.spines['top'].set_visible(False)\n",
    "ax.spines['left'].set_visible(False)\n",
    "ax.spines['right'].set_visible(False)\n",
    "ax.set_xlabel(\"Item Type\",color='gray')\n",
    "ax.set_ylabel('')\n",
    "for bar in ax.patches:\n",
    "    height = bar.get_height()\n",
    "    x_pos = bar.get_x() + bar.get_width() / 2\n",
    "    plt.text(x_pos, height/2, str(int(height)), ha='center')\n",
    "plt.title(\"Sales By Item Type\",color='maroon')\n",
    "plt.show()"
   ]
  },
  {
   "cell_type": "raw",
   "id": "1fc1bfb8-5021-49e3-8afc-1fdf45f7c637",
   "metadata": {},
   "source": [
    "Analysis:\n",
    "Top Performing Categories:\n",
    "Fruits and Vegetables (1232) and Snack Foods (1200) lead in sales, indicating strong consumer demand for fresh produce and snack items.\n",
    "Household (910) and Frozen Foods (856) also perform well, suggesting consistent purchases in essential goods and frozen items.\n",
    "Moderate Performing Categories:\n",
    "Dairy (682), Canned (649), Baking Goods (648), Health and Hygiene (520) show moderate sales, reflecting steady but not dominant demand.\n",
    "Low Performing Categories:\n",
    "Soft Drinks (445), Meat (425), Breads (251), Hard Drinks (214), Others (169), Starchy Foods (148), Breakfast (110), Seafood (64) have the lowest counts, indicating limited contribution to total sales.\n",
    "\n",
    "Conclusion:\n",
    "Fruits and Vegetables and Snack Foods are the highest revenue-generating categories, likely due to daily consumption and popularity.\n",
    "Staple and essential categories (Household, Frozen Foods, Dairy) show moderate performance, contributing consistently to total sales.\n",
    "Specialty or niche items (Seafood, Breakfast, Hard Drinks) have the least impact on total sales, possibly due to lower demand or higher price points.\n",
    "\n",
    "⚡ Insight: Retail strategies could focus on promoting top-selling items while evaluating marketing or discounts to boost sales in lower-performing categories."
   ]
  },
  {
   "attachments": {},
   "cell_type": "markdown",
   "id": "84c3f2f4-7179-42c0-9c74-fe200ffbbbb8",
   "metadata": {},
   "source": [
    "#### Fat Content by Outlet for Total Sales:\n",
    "\tObjective: Compare total sales across different outlets segmented by fat content.\n",
    "\tAdditional KPI Metrics: Assess how other KPIs (Average Sales, Number of Items, Average Rating) vary with fat content.\n",
    "\tChart Type: Stacked Column Chart."
   ]
  },
  {
   "cell_type": "code",
   "execution_count": 102,
   "id": "46b53587-b31f-4aa4-8f11-f44b013e12c0",
   "metadata": {},
   "outputs": [
    {
     "data": {
      "text/plain": [
       "(8523, 12)"
      ]
     },
     "execution_count": 102,
     "metadata": {},
     "output_type": "execute_result"
    }
   ],
   "source": [
    "df.shape"
   ]
  },
  {
   "cell_type": "code",
   "execution_count": 105,
   "id": "48b152ca-aa9b-42e7-bb80-a2e5e3da13cb",
   "metadata": {},
   "outputs": [
    {
     "data": {
      "image/png": "[encoded data removed]",
      "text/plain": [
       "<Figure size 500x500 with 1 Axes>"
      ]
     },
     "metadata": {},
     "output_type": "display_data"
    }
   ],
   "source": [
    "plt.figure(figsize=(5,5))\n",
    "sns.countplot(data=df,x='Outlet Location Type',hue='Item Fat Content')\n",
    "ax = plt.gca()\n",
    "for bar in ax.patches:\n",
    "    height = bar.get_height()\n",
    "    x_pos = bar.get_x() + bar.get_width() / 2\n",
    "    plt.text(x_pos, height/2, str(int(height)), ha='center')\n",
    "plt.show()\n"
   ]
  },
  {
   "cell_type": "raw",
   "id": "70c61805-75fa-4e2c-ac70-203e1db51821",
   "metadata": {},
   "source": [
    "Analysis of the Bar Chart 📊\n",
    "The chart displays the number of items sold across three different outlet location types: Tier 1, Tier 2, and Tier 3. Within each tier, the items are categorized as either Low Fat or Regular.\n",
    "Tier 1: Low Fat items (1540) were sold almost twice as much as Regular items (848).\n",
    "Tier 2: A higher count of both Low Fat (1809) and Regular (976) items was sold here compared to Tier 1, with Low Fat items maintaining a significant lead.\n",
    "Tier 3: This tier shows the highest count for both categories, with Low Fat items (2168) and Regular items (1182).\n",
    "\n",
    "Conclusion 📈\n",
    "The analysis suggests a clear trend: Low Fat items consistently outsell Regular items across all three outlet location types. Furthermore, the number of items sold for both categories increases as the outlet location type moves from Tier 1 to Tier 3. This indicates that Tier 3 outlets are the most productive in terms of item volume, followed by Tier 2 and then Tier 1."
   ]
  },
  {
   "attachments": {},
   "cell_type": "markdown",
   "id": "b897ebb0-1326-4f23-8069-fc7d8592f729",
   "metadata": {},
   "source": [
    "#### Total Sales by Outlet Establishment:\n",
    "\tObjective: Evaluate how the age or type of outlet establishment influences total sales.\n",
    "\tChart Type: Line Chart"
   ]
  },
  {
   "cell_type": "code",
   "execution_count": 110,
   "id": "6b1bd4f2-fd7b-4b30-a260-ec0482684ca9",
   "metadata": {},
   "outputs": [
    {
     "data": {
      "text/plain": [
       "[<matplotlib.lines.Line2D at 0x1fdfb842c60>]"
      ]
     },
     "execution_count": 110,
     "metadata": {},
     "output_type": "execute_result"
    },
    {
     "data": {
      "image/png": "[encoded data removed]",
      "text/plain": [
       "<Figure size 500x300 with 1 Axes>"
      ]
     },
     "metadata": {},
     "output_type": "display_data"
    }
   ],
   "source": [
    "groupby_outlet=df.groupby('Outlet Establishment Year')['Sales'].count()\n",
    "plt.figure(figsize=(5,3))\n",
    "plt.plot(groupby_outlet.index,groupby_outlet.values,marker='o')"
   ]
  },
  {
   "cell_type": "raw",
   "id": "defdcdb7-9ab3-414f-aacc-b2a174624dac",
   "metadata": {},
   "source": [
    "Analysis: It is observed that the outlets which were established before 2000 are having the highest sales."
   ]
  },
  {
   "attachments": {},
   "cell_type": "markdown",
   "id": "eab58b0b-e73f-4abc-9bdc-cee7d1db2306",
   "metadata": {},
   "source": [
    "#### Sales by Outlet Size:\n",
    "\tObjective: Analyze the correlation between outlet size and total sales.\n",
    "\tChart Type: Donut/ Pie Chart."
   ]
  },
  {
   "cell_type": "code",
   "execution_count": 113,
   "id": "8038523b-7240-4508-894c-a5b31b8832bd",
   "metadata": {},
   "outputs": [
    {
     "data": {
      "text/plain": [
       "Text(0.5, 1.0, 'Sales by Outlet size')"
      ]
     },
     "execution_count": 113,
     "metadata": {},
     "output_type": "execute_result"
    },
    {
     "data": {
      "image/png": "[encoded data removed]",
      "text/plain": [
       "<Figure size 640x480 with 1 Axes>"
      ]
     },
     "metadata": {},
     "output_type": "display_data"
    }
   ],
   "source": [
    "groupby_osize=df.groupby('Outlet Size')['Sales'].count()\n",
    "plt.pie(groupby_osize,\n",
    "       labels=groupby_osize.index,\n",
    "       autopct='%.1f%%',\n",
    "       startangle=90)\n",
    "plt.title('Sales by Outlet size')"
   ]
  },
  {
   "cell_type": "raw",
   "id": "39825def-771e-4c17-bc3c-13c857e14294",
   "metadata": {},
   "source": [
    "Analysis :\n",
    "Medium outlets have the highest total sales at 3631.\n",
    "Small outlets have the second-highest sales at 3139.\n",
    "High outlets have the lowest sales at 1753.\n",
    "conclusion:\n",
    "The data suggests that Medium-sized outlets are the most successful in terms of total sales, followed by Small outlets. High outlets have the lowest performance."
   ]
  },
  {
   "cell_type": "markdown",
   "id": "f3ec292c-298b-4f05-9d90-9c0b7000c1f4",
   "metadata": {},
   "source": [
    "#### Sales by Outlet Location:\n",
    "\tObjective: Assess the geographic distribution of sales across different locations.\n",
    "\tChart Type: Funnel Map.\n"
   ]
  },
  {
   "cell_type": "code",
   "execution_count": 129,
   "id": "f081d670-c965-4a58-a1b2-f57a0e101327",
   "metadata": {},
   "outputs": [
    {
     "data": {
      "image/png": "[encoded data removed]",
      "text/plain": [
       "<Figure size 800x300 with 1 Axes>"
      ]
     },
     "metadata": {},
     "output_type": "display_data"
    }
   ],
   "source": [
    "groupby_olocation=df.groupby('Outlet Location Type')['Sales'].sum().sort_values(ascending=True)\n",
    "plt.figure(figsize=(8,3))\n",
    "sns.barplot(x=groupby_olocation.index,y=groupby_olocation.values)\n",
    "ax=plt.gca()\n",
    "for bar in ax.patches:\n",
    "    height = bar.get_height()\n",
    "    x_pos = bar.get_x() + bar.get_width() / 2\n",
    "    plt.text(x_pos, height/2, str(int(height)), ha='center')\n",
    "    "
   ]
  },
  {
   "cell_type": "raw",
   "id": "54f7d8c7-8057-4f9b-b7f9-f9c0595360e2",
   "metadata": {},
   "source": [
    "The total sales across all three tiers are $1,201,680. The sales are not evenly distributed, with Tier 3 contributing the most.\n",
    "Tier 1: Generated $336,397 in sales, which accounts for 28.0% of the total.\n",
    "Tier 2: Generated $393,150 in sales, which accounts for 32.7% of the total.\n",
    "Tier 3: Generated $472,133 in sales, making up the largest share at 39.3% of the total.\n",
    "\n",
    "The data indicates a clear trend where sales increase significantly with each successive tier, from Tier 1 to Tier 3. This suggests that Tier 3 outlets are the most productive in terms of sales volume."
   ]
  },
  {
   "cell_type": "code",
   "execution_count": null,
   "id": "f4a64896-43d1-4bd9-8152-cd748d3c9c60",
   "metadata": {},
   "outputs": [],
   "source": []
  }
 ],
 "metadata": {
  "kernelspec": {
   "display_name": "Python 3 (ipykernel)",
   "language": "python",
   "name": "python3"
  },
  "language_info": {
   "codemirror_mode": {
    "name": "ipython",
    "version": 3
   },
   "file_extension": ".py",
   "mimetype": "text/x-python",
   "name": "python",
   "nbconvert_exporter": "python",
   "pygments_lexer": "ipython3",
   "version": "3.12.3"
  }
 },
 "nbformat": 4,
 "nbformat_minor": 5
}
